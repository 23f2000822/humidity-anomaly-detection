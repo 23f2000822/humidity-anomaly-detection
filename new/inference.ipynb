{
 "cells": [
  {
   "cell_type": "code",
   "execution_count": 3,
   "id": "2ff0da34",
   "metadata": {},
   "outputs": [
    {
     "name": "stdout",
     "output_type": "stream",
     "text": [
      "1/1 [==============================] - 0s 37ms/step\n",
      "\n",
      "🔍 Model Output (Anomaly Probability): 0.9893\n",
      "⚠️ Anomaly Detected\n",
      "🔎 Possible cause(s):\n",
      " - Temperature out of normal range\n"
     ]
    }
   ],
   "source": [
    "import numpy as np\n",
    "import tensorflow as tf\n",
    "\n",
    "# === Load the trained .h5 model ===\n",
    "model = tf.keras.models.load_model(\"copy.h5\")\n",
    "\n",
    "# === Use the scaler min and max from training ===\n",
    "temp_min = 5.13\n",
    "temp_max = 44.99\n",
    "hum_min  = 5.2\n",
    "hum_max  = 99.74\n",
    "\n",
    "# Optional: Define normal operating range heuristically\n",
    "TEMP_NORMAL_RANGE = (20, 35)  # °C\n",
    "HUM_NORMAL_RANGE = (30, 70)   # %\n",
    "\n",
    "# === Take manual input ===\n",
    "temperature = float(input(\"🌡️ Enter temperature (°C): \"))\n",
    "humidity = float(input(\"💧 Enter humidity (%): \"))\n",
    "\n",
    "# === Normalize using same MinMaxScaler logic ===\n",
    "temp_scaled = (temperature - temp_min) / (temp_max - temp_min)\n",
    "hum_scaled = (humidity - hum_min) / (hum_max - hum_min)\n",
    "\n",
    "# Ensure input is in correct shape\n",
    "input_data = np.array([[temp_scaled, hum_scaled]])\n",
    "\n",
    "# === Predict ===\n",
    "output = model.predict(input_data)\n",
    "prob = output[0][0]\n",
    "\n",
    "# === Display Result ===\n",
    "print(f\"\\n🔍 Model Output (Anomaly Probability): {prob:.4f}\")\n",
    "if prob > 0.75:\n",
    "    print(\"⚠️ Anomaly Detected\")\n",
    "\n",
    "    reasons = []\n",
    "    if not (TEMP_NORMAL_RANGE[0] <= temperature <= TEMP_NORMAL_RANGE[1]):\n",
    "        reasons.append(\"Temperature out of normal range\")\n",
    "    if not (HUM_NORMAL_RANGE[0] <= humidity <= HUM_NORMAL_RANGE[1]):\n",
    "        reasons.append(\"Humidity out of normal range\")\n",
    "\n",
    "    if reasons:\n",
    "        print(\"🔎 Possible cause(s):\")\n",
    "        for r in reasons:\n",
    "            print(f\" - {r}\")\n",
    "    else:\n",
    "        print(\"ℹ️ No obvious single cause — may be combined effect.\")\n",
    "else:\n",
    "    print(\"✅ Normal Condition\")\n"
   ]
  },
  {
   "cell_type": "markdown",
   "id": "4c842f5d",
   "metadata": {},
   "source": [
    "1:46:12.860 -> 🌡 Temp: 31.60 °C, 💧 Humidity: 95.00\n",
    "11:46:12.860 -> 🔎 Prediction: 0.0000\n",
    "11:46:12.893 -> ✅ Normal Condition.\n",
    "11:46:12.893 -> ------------------------------\n",
    "11:46:14.906 -> 🌡 Temp: 31.40 °C, 💧 Humidity: 95.00\n",
    "11:46:14.906 -> 🔎 Prediction: 0.0000\n",
    "11:46:14.906 -> ✅ Normal Condition.\n",
    "11:46:14.906 -> ------------------------------"
   ]
  }
 ],
 "metadata": {
  "kernelspec": {
   "display_name": "venv",
   "language": "python",
   "name": "python3"
  },
  "language_info": {
   "codemirror_mode": {
    "name": "ipython",
    "version": 3
   },
   "file_extension": ".py",
   "mimetype": "text/x-python",
   "name": "python",
   "nbconvert_exporter": "python",
   "pygments_lexer": "ipython3",
   "version": "3.10.13"
  }
 },
 "nbformat": 4,
 "nbformat_minor": 5
}
