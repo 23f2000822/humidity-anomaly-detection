{
 "cells": [
  {
   "cell_type": "code",
   "execution_count": 1,
   "id": "2707faed",
   "metadata": {},
   "outputs": [
    {
     "name": "stdout",
     "output_type": "stream",
     "text": [
      "✅ Dataset with numeric labels saved as 'anomaly_data.csv'\n"
     ]
    }
   ],
   "source": [
    "import pandas as pd\n",
    "import numpy as np\n",
    "\n",
    "np.random.seed(42)\n",
    "data = []\n",
    "\n",
    "# Normal (0)\n",
    "for _ in range(300):\n",
    "    temp = np.random.uniform(20, 25)\n",
    "    humid = np.random.uniform(30, 60)\n",
    "    label = 0\n",
    "    data.append([round(temp, 2), round(humid, 2), label])\n",
    "\n",
    "# High Temperature anomaly (1)\n",
    "for _ in range(100):\n",
    "    temp = np.random.uniform(30, 45)\n",
    "    humid = np.random.uniform(30, 60)\n",
    "    label = 1\n",
    "    data.append([round(temp, 2), round(humid, 2), label])\n",
    "\n",
    "# Low Temperature anomaly (1)\n",
    "for _ in range(100):\n",
    "    temp = np.random.uniform(5, 15)\n",
    "    humid = np.random.uniform(30, 60)\n",
    "    label = 1\n",
    "    data.append([round(temp, 2), round(humid, 2), label])\n",
    "\n",
    "# High Humidity anomaly (1)\n",
    "for _ in range(100):\n",
    "    temp = np.random.uniform(20, 25)\n",
    "    humid = np.random.uniform(70, 100)\n",
    "    label = 1\n",
    "    data.append([round(temp, 2), round(humid, 2), label])\n",
    "\n",
    "# Low Humidity anomaly (1)\n",
    "for _ in range(100):\n",
    "    temp = np.random.uniform(20, 25)\n",
    "    humid = np.random.uniform(5, 25)\n",
    "    label = 1\n",
    "    data.append([round(temp, 2), round(humid, 2), label])\n",
    "\n",
    "# Both Temp & Humid anomaly (1)\n",
    "for _ in range(100):\n",
    "    temp = np.random.uniform(30, 45)\n",
    "    humid = np.random.uniform(70, 100)\n",
    "    label = 1\n",
    "    data.append([round(temp, 2), round(humid, 2), label])\n",
    "\n",
    "# Create, shuffle, and save\n",
    "df = pd.DataFrame(data, columns=[\"temperature\", \"humidity\", \"label\"])\n",
    "df = df.sample(frac=1).reset_index(drop=True)\n",
    "df.to_csv(\"anomaly_data.csv\", index=False)\n",
    "\n",
    "print(\"✅ Dataset with numeric labels saved as 'anomaly_data.csv'\")\n"
   ]
  }
 ],
 "metadata": {
  "kernelspec": {
   "display_name": "venv",
   "language": "python",
   "name": "python3"
  },
  "language_info": {
   "codemirror_mode": {
    "name": "ipython",
    "version": 3
   },
   "file_extension": ".py",
   "mimetype": "text/x-python",
   "name": "python",
   "nbconvert_exporter": "python",
   "pygments_lexer": "ipython3",
   "version": "3.10.13"
  }
 },
 "nbformat": 4,
 "nbformat_minor": 5
}
