{
 "cells": [
  {
   "cell_type": "code",
   "execution_count": 2,
   "id": "b9d4dcb3",
   "metadata": {},
   "outputs": [],
   "source": [
    "import numpy as np\n",
    "import pandas as pd\n",
    "import tensorflow as tf\n",
    "from sklearn.model_selection import train_test_split\n",
    "from sklearn.preprocessing import MinMaxScaler\n",
    "\n",
    "# Load your cleaned dataset (without 'date' column)\n",
    "df = pd.read_csv(\"data.csv\")  # Replace with your CSV filename\n",
    "\n",
    "# Features and target\n",
    "X = df[['temperature', 'humidity']].values\n",
    "y = df['label'].values  # Make sure you have a column 'label' as 0/1 for anomaly\n",
    "\n",
    "# Normalize data\n",
    "scaler = MinMaxScaler()\n",
    "X_scaled = scaler.fit_transform(X)\n",
    "\n",
    "# Split into train, val, test sets (70% train, 15% val, 15% test)\n",
    "X_temp, X_test, y_temp, y_test = train_test_split(X_scaled, y, test_size=0.15, random_state=42)\n",
    "X_train, X_val, y_train, y_val = train_test_split(X_temp, y_temp, test_size=0.1765, random_state=42)"
   ]
  },
  {
   "cell_type": "code",
   "execution_count": 2,
   "id": "75fbdc22",
   "metadata": {},
   "outputs": [
    {
     "name": "stdout",
     "output_type": "stream",
     "text": [
      "INFO:tensorflow:Assets written to: /var/folders/bs/x0lj933d1hv0py0d4w2ypdp40000gn/T/tmpazht012g/assets\n"
     ]
    },
    {
     "name": "stderr",
     "output_type": "stream",
     "text": [
      "INFO:tensorflow:Assets written to: /var/folders/bs/x0lj933d1hv0py0d4w2ypdp40000gn/T/tmpazht012g/assets\n",
      "/Users/oscarpatrikminj/Documents/IITR/Working/dep/venv/lib/python3.10/site-packages/tensorflow/lite/python/convert.py:887: UserWarning: Statistics for quantized inputs were expected, but not specified; continuing anyway.\n",
      "  warnings.warn(\n",
      "2025-06-11 22:33:34.407509: W tensorflow/compiler/mlir/lite/python/tf_tfl_flatbuffer_helpers.cc:364] Ignored output_format.\n",
      "2025-06-11 22:33:34.407526: W tensorflow/compiler/mlir/lite/python/tf_tfl_flatbuffer_helpers.cc:367] Ignored drop_control_dependency.\n",
      "2025-06-11 22:33:34.408126: I tensorflow/cc/saved_model/reader.cc:45] Reading SavedModel from: /var/folders/bs/x0lj933d1hv0py0d4w2ypdp40000gn/T/tmpazht012g\n",
      "2025-06-11 22:33:34.408878: I tensorflow/cc/saved_model/reader.cc:91] Reading meta graph with tags { serve }\n",
      "2025-06-11 22:33:34.408887: I tensorflow/cc/saved_model/reader.cc:132] Reading SavedModel debug info (if present) from: /var/folders/bs/x0lj933d1hv0py0d4w2ypdp40000gn/T/tmpazht012g\n",
      "2025-06-11 22:33:34.410764: I tensorflow/compiler/mlir/mlir_graph_optimization_pass.cc:375] MLIR V1 optimization pass is not enabled\n",
      "2025-06-11 22:33:34.411815: I tensorflow/cc/saved_model/loader.cc:231] Restoring SavedModel bundle.\n",
      "2025-06-11 22:33:34.452582: I tensorflow/cc/saved_model/loader.cc:215] Running initialization op on SavedModel bundle at path: /var/folders/bs/x0lj933d1hv0py0d4w2ypdp40000gn/T/tmpazht012g\n",
      "2025-06-11 22:33:34.464337: I tensorflow/cc/saved_model/loader.cc:314] SavedModel load for tags { serve }; Status: success: OK. Took 56213 microseconds.\n",
      "2025-06-11 22:33:34.474637: I tensorflow/compiler/mlir/tensorflow/utils/dump_mlir_util.cc:255] disabling MLIR crash reproducer, set env var `MLIR_CRASH_REPRODUCER_DIRECTORY` to enable.\n"
     ]
    },
    {
     "name": "stdout",
     "output_type": "stream",
     "text": [
      "✅ Quantized model saved as 'tinyml_anomaly_model_quant.tflite'\n"
     ]
    },
    {
     "name": "stderr",
     "output_type": "stream",
     "text": [
      "fully_quantize: 0, inference_type: 6, input_inference_type: UINT8, output_inference_type: UINT8\n"
     ]
    }
   ],
   "source": [
    "import tensorflow as tf\n",
    "import numpy as np\n",
    "\n",
    "# Load the trained model\n",
    "model = tf.keras.models.load_model(\"base_model.h5\")\n",
    "\n",
    "# Define representative dataset for quantization\n",
    "def representative_dataset():\n",
    "    for i in range(100):\n",
    "        # Assuming X_train is in memory and normalized to [0, 1]\n",
    "        data = X_train[i].reshape(1, X_train.shape[1])\n",
    "        yield [tf.convert_to_tensor(data, dtype=tf.float32)]\n",
    "\n",
    "# Convert model to fully quantized int8 TFLite format\n",
    "converter = tf.lite.TFLiteConverter.from_keras_model(model)\n",
    "converter.optimizations = [tf.lite.Optimize.DEFAULT]\n",
    "converter.representative_dataset = representative_dataset\n",
    "converter.target_spec.supported_ops = [tf.lite.OpsSet.TFLITE_BUILTINS_INT8]\n",
    "converter.inference_input_type = tf.uint8\n",
    "converter.inference_output_type = tf.uint8\n",
    "\n",
    "# Convert and save\n",
    "quantized_tflite_model = converter.convert()\n",
    "\n",
    "with open(\"tinyml_anomaly_model_quant.tflite\", \"wb\") as f:\n",
    "    f.write(quantized_tflite_model)\n",
    "\n",
    "print(\"✅ Quantized model saved as 'tinyml_anomaly_model_quant.tflite'\")\n"
   ]
  },
  {
   "cell_type": "code",
   "execution_count": 8,
   "id": "b79df183",
   "metadata": {},
   "outputs": [
    {
     "name": "stdout",
     "output_type": "stream",
     "text": [
      "📦 Quantized TFLite Model Size: 2.87 KB\n"
     ]
    }
   ],
   "source": [
    "import os\n",
    "\n",
    "\n",
    "quant_path = \"tinyml_anomaly_model_quant.tflite\"\n",
    "quant_size_kb = os.path.getsize(quant_path) / 1024\n",
    "print(f\"📦 Quantized TFLite Model Size: {quant_size_kb:.2f} KB\")\n"
   ]
  },
  {
   "cell_type": "code",
   "execution_count": 5,
   "id": "45b51675",
   "metadata": {},
   "outputs": [
    {
     "name": "stdout",
     "output_type": "stream",
     "text": [
      "✅ TFLite Model Test Accuracy: 86.67%\n"
     ]
    }
   ],
   "source": [
    "import numpy as np\n",
    "import tensorflow as tf\n",
    "from sklearn.metrics import accuracy_score\n",
    "\n",
    "# Load the TFLite model\n",
    "interpreter = tf.lite.Interpreter(model_path=\"quant.tflite\")\n",
    "interpreter.allocate_tensors()\n",
    "\n",
    "# Get input/output details\n",
    "input_details = interpreter.get_input_details()\n",
    "output_details = interpreter.get_output_details()\n",
    "\n",
    "# Run inference on test data\n",
    "y_pred = []\n",
    "for sample in X_test:  # Make sure X_test is scaled\n",
    "    # Quantize input\n",
    "    scale, zero_point = input_details[0]['quantization']\n",
    "    input_data = np.array([sample], dtype=np.float32)\n",
    "    input_data_uint8 = np.round(input_data / scale + zero_point).astype(np.uint8)\n",
    "\n",
    "    interpreter.set_tensor(input_details[0]['index'], input_data_uint8)\n",
    "    interpreter.invoke()\n",
    "\n",
    "    # Dequantize output if needed\n",
    "    output_data = interpreter.get_tensor(output_details[0]['index'])\n",
    "    output_scale, output_zero_point = output_details[0]['quantization']\n",
    "    output = output_scale * (output_data.astype(np.float32) - output_zero_point)\n",
    "    output = output[0][0]\n",
    "    y_pred.append(1 if output > 0.5 else 0)\n",
    "\n",
    "# Compute accuracy\n",
    "accuracy = accuracy_score(y_test, y_pred)\n",
    "print(f\"✅ TFLite Model Test Accuracy: {accuracy * 100:.2f}%\")\n"
   ]
  }
 ],
 "metadata": {
  "kernelspec": {
   "display_name": "venv",
   "language": "python",
   "name": "python3"
  },
  "language_info": {
   "codemirror_mode": {
    "name": "ipython",
    "version": 3
   },
   "file_extension": ".py",
   "mimetype": "text/x-python",
   "name": "python",
   "nbconvert_exporter": "python",
   "pygments_lexer": "ipython3",
   "version": "3.10.13"
  }
 },
 "nbformat": 4,
 "nbformat_minor": 5
}
